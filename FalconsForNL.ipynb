{
 "cells": [
  {
   "cell_type": "markdown",
   "id": "9d063ed1",
   "metadata": {},
   "source": [
    "## Falcons code by Yusuke modified to calculate non linear cross link terms"
   ]
  },
  {
   "cell_type": "code",
   "execution_count": 1,
   "id": "1fb287aa",
   "metadata": {},
   "outputs": [],
   "source": [
    "#using PyPlot\n",
    "#include(\"/gpfs/home/cmb/yusuket/program/scan_strategy/optimisation2/functions/spin_characterisation_w_HWP.jl\")\n",
    "#data = npzread(\"/home/cmb/yusuket/program/scan_strategy/_optimisation/spin_HWP/nside512_1yr_19Hz_46rpm_0.1arcmin.npz\")\n",
    "#lbt  = pyimport(\"lbsim_tools\")\n",
    "#cmap = lbt.get_planck_cmap()\n",
    "using Healpix\n",
    "using Falcons\n",
    "using PyCall\n",
    "using PyPlot\n",
    "using ProgressMeter\n",
    "using DataFrames\n",
    "hp = pyimport(\"healpy\");"
   ]
  },
  {
   "cell_type": "code",
   "execution_count": 2,
   "id": "2c0f2065",
   "metadata": {},
   "outputs": [
    {
     "data": {
      "text/plain": [
       "get_scanfield_2 (generic function with 1 method)"
      ]
     },
     "execution_count": 2,
     "metadata": {},
     "output_type": "execute_result"
    }
   ],
   "source": [
    "#questo calcola matr cross link normale \n",
    "function get_scanfield_2(ss::ScanningStrategy,; division, spin_n, spin_m)\n",
    "    #println(\"RUN `get_scanfield`\")\n",
    "    orientation_func_hwp(n, m, ψⱼ, ϕⱼ) = ℯ^(-im*(n*ψⱼ + m*ϕⱼ))\n",
    "    h      = orientation_func_hwp\n",
    "    resol  = Resolution(ss.nside)\n",
    "    npix   = nside2npix(ss.nside)\n",
    "    chunk  = Int(ss.duration / division)\n",
    "    ω_hwp  = rpm2angfreq(ss.hwp_rpm)\n",
    "    hitmap = zeros(Int64, npix)\n",
    "    #hₙₘ     = zeros(Complex{Float32}, (length(spin_n), length(spin_m), npix))\n",
    "    hₙₘ    = zeros(Complex{Float32}, (18, npix))\n",
    "    BEGIN  = 0\n",
    "    progress = Progress(division)\n",
    "    @views @inbounds for i = 1:division\n",
    "        END = i * chunk\n",
    "        theta, phi, psi, time = get_pointings(ss, BEGIN, END)\n",
    "        @views @inbounds for j = eachindex(ss.quat)\n",
    "            theta_j = theta[:,j]\n",
    "            phi_j   = phi[:,j]\n",
    "            psi_j   = psi[:,j]\n",
    "            polang  = get_pol_angle(ss, j)\n",
    "            @views @inbounds for k = eachindex(time)\n",
    "                t = time[k]\n",
    "                p = pointings(resol, theta_j[k], phi_j[k], psi_j[k], mod2pi(ω_hwp*t)+polang)\n",
    "                χ = mod2pi(2ω_hwp*t - p.ψ)\n",
    "                newangle = mod2pi(2*ω_hwp*t) # match this angle with TOD angles in lbsim --> checked\n",
    "                \n",
    "                hitmap[p.Ω] += 1\n",
    "                               \n",
    "                 \n",
    "                hₙₘ[1, p.Ω] += cos(2χ)\n",
    "                hₙₘ[2, p.Ω] += sin(2χ)\n",
    "                hₙₘ[3, p.Ω] += cos(2χ)*cos(2χ)\n",
    "                hₙₘ[4, p.Ω] += sin(2χ)*cos(2χ)\n",
    "                hₙₘ[5, p.Ω] += sin(2χ)*sin(2χ)\n",
    "                \n",
    "                hₙₘ[6, p.Ω] += cos(2χ)*cos(2χ)*cos(2χ)\n",
    "                hₙₘ[7, p.Ω] += sin(2χ)*sin(2χ)*cos(2χ)\n",
    "                hₙₘ[8, p.Ω] += sin(2χ)*cos(2χ)*cos(2χ)\n",
    "                hₙₘ[9, p.Ω] += sin(2χ)*sin(2χ)*sin(2χ)\n",
    "                \n",
    "                hₙₘ[10, p.Ω] += cos(newangle)\n",
    "                hₙₘ[11, p.Ω] += cos(newangle)*cos(2χ)\n",
    "                hₙₘ[12, p.Ω] += cos(newangle)*cos(2χ)*cos(2χ)\n",
    "                hₙₘ[13, p.Ω] += cos(newangle)*sin(2χ)\n",
    "                hₙₘ[14, p.Ω] += cos(newangle)*sin(2χ)*sin(2χ)\n",
    "                hₙₘ[15, p.Ω] += cos(newangle)*cos(newangle)\n",
    "                hₙₘ[16, p.Ω] += cos(newangle)*cos(newangle)*cos(2χ)\n",
    "                hₙₘ[17, p.Ω] += cos(newangle)*sin(2χ)*cos(2χ)\n",
    "                hₙₘ[18, p.Ω] += cos(newangle)*cos(newangle)*sin(2χ)\n",
    "                \n",
    "                #=\n",
    "                @views @inbounds for _n in eachindex(spin_n)\n",
    "                    @views @inbounds for _m in eachindex(spin_m)\n",
    "                        hₙₘ[_n, _m, p.Ω] += h(spin_n[_n], spin_m[_m], p.ψ, p.ϕ)\n",
    "                    end\n",
    "                end\n",
    "                =#\n",
    "            end\n",
    "        end\n",
    "        BEGIN = END\n",
    "        next!(progress)\n",
    "    end\n",
    "    #=\n",
    "    @views for _n in eachindex(spin_n)\n",
    "        @views for _m in eachindex(spin_m)\n",
    "            hₙₘ[_n,_m,:] ./= hitmap\n",
    "        end\n",
    "    end\n",
    "    df = get_hnm_quantify(hₙₘ, spin_n, spin_m)\n",
    "    =#\n",
    "    for _n in 1:18\n",
    "        hₙₘ[_n,:] ./= hitmap\n",
    "    end\n",
    "    df = DataFrame()\n",
    "    return scanfield(hitmap, hₙₘ, df, spin_n, spin_m, ss)\n",
    "end"
   ]
  },
  {
   "cell_type": "code",
   "execution_count": 3,
   "id": "2834ed50",
   "metadata": {},
   "outputs": [],
   "source": [
    "ss = gen_ScanningStrategy()\n",
    "ss.nside         = 64\n",
    "ss.hwp_rpm       = 39.\n",
    "ss.sampling_rate = 19.\n",
    "ss.duration      = 1*365*60*60*24\n",
    "ss.coord         = \"G\"\n",
    "#ss.start_angle   = deg2rad(0)\n",
    "\n",
    "\n",
    "division         = 365*12*12*24\n",
    "spin_n           = -6:6   |> collect #np.arange(-6,6)\n",
    "spin_m           = -8:4:8 |> collect; #[-8,-4,0,4,8]"
   ]
  },
  {
   "cell_type": "code",
   "execution_count": 4,
   "id": "180de326",
   "metadata": {},
   "outputs": [
    {
     "data": {
      "text/plain": [
       "1-element Vector{Vector{Float64}}:\n",
       " [0.0, 0.0, 1.0, 0.0]"
      ]
     },
     "execution_count": 4,
     "metadata": {},
     "output_type": "execute_result"
    }
   ],
   "source": [
    "ss.quat"
   ]
  },
  {
   "cell_type": "code",
   "execution_count": 5,
   "id": "dd31712c",
   "metadata": {},
   "outputs": [
    {
     "name": "stdout",
     "output_type": "stream",
     "text": [
      "nside                    : 64 \n",
      "duration [sec]           : 31536000.0 \n",
      "sampling rate [Hz]       : 19.0 \n",
      "alpha [deg]              : 45.0 \n",
      "beta [deg]               : 50.0 \n",
      "gamma [deg]              : 0.0 \n",
      "prec. period [min]       : 192.348\n",
      "↳ prec. rate [rpm]       : 0.005199\n",
      "spin period [min]        : 20.000\n",
      "↳ spin rate [rpm]        : 0.050000\n",
      "HWP rot. rate[rpm]       : 39.000000 \n",
      "start angle              : 0.000000 \n",
      "coordinate system        : G \n",
      "FPU                     \n",
      "↳ Det. 1  name | 001_004_030_00A_140_T              : (x,y,z,w) = [0.075, 0.010, 0.382, 0.921] \n",
      "↳ Det. 2  name | 001_004_030_00A_140_B              : (x,y,z,w) = [0.060, -0.046, 0.921, 0.382] \n",
      "↳ Det. 3  name | 001_002_030_00A_140_T              : (x,y,z,w) = [-0.075, -0.010, 0.382, 0.921] \n",
      "↳ Det. 4  name | 001_002_030_00A_140_B              : (x,y,z,w) = [-0.060, 0.046, 0.921, 0.382] \n"
     ]
    }
   ],
   "source": [
    "## block to chose which dets\n",
    "\n",
    "imo_path         = \"/Users/silviamicheli/Desktop/lb_sim/litebird_sim/litebird_imo/IMO/schema.json\"\n",
    "#base_path        = \"/group/cmb/litebird/usr/ytakase/pointing_error/pointing_sys_falcons\"\n",
    "#target_dir       = \"/gpfs/home/cmb/yusuket/litebird/pointing_sys_casex\"\n",
    "#imo_path         = \"/Users/silviamicheli/Downloads/schema_IMo_v2.1_2023_11_30.json\"\n",
    "filename         = \"./detectors_MFT_M1-140.txt\" \n",
    "imo              = gen_imo(imo_path);\n",
    "\n",
    "telescope        = split.(filename, \"_\")[2] |> String\n",
    "channel_name     = split.(filename, \"_\")[3] |> String\n",
    "\n",
    "inst_info        = get_instrument_info(imo, telescope)\n",
    "channel_list     = get_channel_list(imo)\n",
    "channel_info     = get_channel_info(imo, channel_name)\n",
    "#file_path        = target_dir * filename\n",
    "bolonames        = get_detectors(filename)\n",
    "imo_name!(ss, imo, name=bolonames)\n",
    "show_ss(ss)"
   ]
  },
  {
   "cell_type": "code",
   "execution_count": 6,
   "id": "3964570c",
   "metadata": {},
   "outputs": [
    {
     "name": "stderr",
     "output_type": "stream",
     "text": [
      "\u001b[32mProgress: 100%|█████████████████████████████████████████| Time: 5:33:22\u001b[39m\n"
     ]
    }
   ],
   "source": [
    "field2 = get_scanfield_2(ss, division=division, spin_n=spin_n, spin_m=spin_m);"
   ]
  },
  {
   "cell_type": "code",
   "execution_count": 7,
   "id": "6db7b75a",
   "metadata": {},
   "outputs": [
    {
     "name": "stderr",
     "output_type": "stream",
     "text": [
      "setting the output map dtype to [dtype('float32')]\n",
      "setting the output map dtype to [dtype('float32')]\n",
      "setting the output map dtype to [dtype('float32')]\n",
      "setting the output map dtype to [dtype('float32')]\n",
      "setting the output map dtype to [dtype('float32')]\n",
      "setting the output map dtype to [dtype('float32')]\n",
      "setting the output map dtype to [dtype('float32')]\n",
      "setting the output map dtype to [dtype('float32')]\n",
      "setting the output map dtype to [dtype('float32')]\n",
      "setting the output map dtype to [dtype('float32')]\n",
      "setting the output map dtype to [dtype('float32')]\n",
      "setting the output map dtype to [dtype('float32')]\n",
      "setting the output map dtype to [dtype('float32')]\n",
      "setting the output map dtype to [dtype('float32')]\n",
      "setting the output map dtype to [dtype('float32')]\n",
      "setting the output map dtype to [dtype('float32')]\n",
      "setting the output map dtype to [dtype('float32')]\n",
      "setting the output map dtype to [dtype('float32')]\n"
     ]
    }
   ],
   "source": [
    "hp.write_map(\"clinks_maps/4testfull_a.fits\",real.(field2.h[1,:]))\n",
    "hp.write_map(\"clinks_maps/4testfull_b.fits\",real.(field2.h[2,:]))\n",
    "hp.write_map(\"clinks_maps/4testfull_c.fits\",real.(field2.h[3,:]))\n",
    "hp.write_map(\"clinks_maps/4testfull_d.fits\",real.(field2.h[4,:]))\n",
    "hp.write_map(\"clinks_maps/4testfull_e.fits\",real.(field2.h[5,:]))\n",
    "                    \n",
    "hp.write_map(\"clinks_maps/4testfull_f.fits\",real.(field2.h[6,:]))\n",
    "hp.write_map(\"clinks_maps/4testfull_g.fits\",real.(field2.h[7,:]))\n",
    "hp.write_map(\"clinks_maps/4testfull_h.fits\",real.(field2.h[8,:]))\n",
    "hp.write_map(\"clinks_maps/4testfull_j.fits\",real.(field2.h[9,:]))\n",
    "                                    \n",
    "hp.write_map(\"clinks_maps/4testfull_mu.fits\",real.(field2.h[10,:]))\n",
    "hp.write_map(\"clinks_maps/4testfull_gamma.fits\",real.(field2.h[11,:]))\n",
    "hp.write_map(\"clinks_maps/4testfull_eps.fits\",real.(field2.h[12,:]))\n",
    "hp.write_map(\"clinks_maps/4testfull_eta.fits\",real.(field2.h[13,:]))\n",
    "hp.write_map(\"clinks_maps/4testfull_lambda.fits\",real.(field2.h[14,:]))\n",
    "hp.write_map(\"clinks_maps/4testfull_nu.fits\",real.(field2.h[15,:]))\n",
    "hp.write_map(\"clinks_maps/4testfull_delta.fits\",real.(field2.h[16,:]))\n",
    "hp.write_map(\"clinks_maps/4testfull_zeta.fits\",real.(field2.h[17,:]))\n",
    "hp.write_map(\"clinks_maps/4testfull_kappa.fits\",real.(field2.h[18,:]))"
   ]
  },
  {
   "cell_type": "code",
   "execution_count": null,
   "id": "d911fb71",
   "metadata": {},
   "outputs": [],
   "source": []
  }
 ],
 "metadata": {
  "kernelspec": {
   "display_name": "Julia 1.9.4",
   "language": "julia",
   "name": "julia-1.9"
  },
  "language_info": {
   "file_extension": ".jl",
   "mimetype": "application/julia",
   "name": "julia",
   "version": "1.9.4"
  }
 },
 "nbformat": 4,
 "nbformat_minor": 5
}
